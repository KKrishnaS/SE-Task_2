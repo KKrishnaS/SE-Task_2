{
  "nbformat": 4,
  "nbformat_minor": 0,
  "metadata": {
    "colab": {
      "provenance": [],
      "authorship_tag": "ABX9TyOqbitGWOXXS3nRLpBYZC3h",
      "include_colab_link": true
    },
    "kernelspec": {
      "name": "python3",
      "display_name": "Python 3"
    },
    "language_info": {
      "name": "python"
    }
  },
  "cells": [
    {
      "cell_type": "markdown",
      "metadata": {
        "id": "view-in-github",
        "colab_type": "text"
      },
      "source": [
        "<a href=\"https://colab.research.google.com/github/KKrishnaS/SE-Task_2/blob/main/Software_Engineering_Task_2.ipynb\" target=\"_parent\"><img src=\"https://colab.research.google.com/assets/colab-badge.svg\" alt=\"Open In Colab\"/></a>"
      ]
    },
    {
      "cell_type": "code",
      "source": [
        "from google.colab import drive\n",
        "drive.mount('/content/drive')"
      ],
      "metadata": {
        "colab": {
          "base_uri": "https://localhost:8080/"
        },
        "id": "7ZDEK-0_o0UA",
        "outputId": "170a31a6-4a81-48a4-b504-2bd4e3de6703"
      },
      "execution_count": 2,
      "outputs": [
        {
          "output_type": "stream",
          "name": "stdout",
          "text": [
            "Mounted at /content/drive\n"
          ]
        }
      ]
    },
    {
      "cell_type": "code",
      "source": [
        "# prompt: 1.\tHardcoding Variables: Demonstrate by using predefined values.\n",
        "\n",
        "from google.colab import drive\n",
        "drive.mount('/content/drive')\n",
        "\n",
        "# Hardcoded variables\n",
        "name = \"Alice\"\n",
        "age = 30\n",
        "city = \"New York\"\n",
        "\n",
        "# Using the hardcoded variables\n",
        "print(f\"Name: {name}\")\n",
        "print(f\"Age: {age}\")\n",
        "print(f\"City: {city}\")"
      ],
      "metadata": {
        "colab": {
          "base_uri": "https://localhost:8080/"
        },
        "id": "MRvrbSb0pLbe",
        "outputId": "5a83d620-9379-4b74-f181-e5398dcae2d3"
      },
      "execution_count": 3,
      "outputs": [
        {
          "output_type": "stream",
          "name": "stdout",
          "text": [
            "Drive already mounted at /content/drive; to attempt to forcibly remount, call drive.mount(\"/content/drive\", force_remount=True).\n",
            "Name: Alice\n",
            "Age: 30\n",
            "City: New York\n"
          ]
        }
      ]
    },
    {
      "cell_type": "code",
      "source": [
        "# Using input() to get user data\n",
        "name = input(\"Enter your name: \")\n",
        "age = int(input(\"Enter your age: \"))  # Convert input to integer\n",
        "city = input(\"Enter your city: \")\n",
        "\n",
        "# Using the user-provided variables\n",
        "print(f\"Name: {name}\")\n",
        "print(f\"Age: {age}\")\n",
        "print(f\"City: {city}\")"
      ],
      "metadata": {
        "colab": {
          "base_uri": "https://localhost:8080/"
        },
        "id": "NGyEw0jxpxbB",
        "outputId": "6d560386-c91c-4c8f-9d07-34611b7a9223"
      },
      "execution_count": 4,
      "outputs": [
        {
          "output_type": "stream",
          "name": "stdout",
          "text": [
            "Enter your name: K. Krishna Sai\n",
            "Enter your age: 20\n",
            "Enter your city: Hyderabad\n",
            "Name: K. Krishna Sai\n",
            "Age: 20\n",
            "City: Hyderabad\n"
          ]
        }
      ]
    },
    {
      "cell_type": "code",
      "source": [
        "user_input = input(\"Please enter a number: \")\n",
        "with open(\"single_input.txt\", \"w\") as f:\n",
        "    f.write(user_input)\n",
        "\n",
        "try:\n",
        "    with open(\"single_input.txt\", \"r\") as f:\n",
        "        num = int(f.read().strip())\n",
        "        result = num * 2\n",
        "        print(f\"Single Input Read from File: {num} * 2 = {result}\")\n",
        "except FileNotFoundError:\n",
        "    print(\"File not found!\")\n",
        "except ValueError:\n",
        "    print(\"Error in reading or converting the input!\")"
      ],
      "metadata": {
        "colab": {
          "base_uri": "https://localhost:8080/"
        },
        "id": "ZCCQahUdtw0b",
        "outputId": "74a3e809-0f92-4e3b-d0c0-a27972736b13"
      },
      "execution_count": 12,
      "outputs": [
        {
          "output_type": "stream",
          "name": "stdout",
          "text": [
            "Please enter a number: 21\n",
            "Single Input Read from File: 21 * 2 = 42\n"
          ]
        }
      ]
    },
    {
      "cell_type": "code",
      "source": [
        "user_input = input(\"Please enter multiple numbers, separated by spaces: \")\n",
        "numbers_list = user_input.split()\n",
        "with open(\"multiple_inputs.txt\", \"w\") as f:\n",
        "    for num in numbers_list:\n",
        "        f.write(num + \"\\n\")\n",
        "\n",
        "try:\n",
        "    with open(\"multiple_inputs.txt\", \"r\") as f:\n",
        "        numbers = [int(line.strip()) for line in f.readlines()]\n",
        "        result = sum(numbers)\n",
        "        print(f\"Multiple Inputs Read from File: {numbers}, Sum = {result}\")\n",
        "except FileNotFoundError:\n",
        "    print(\"File not found!\")\n",
        "except ValueError:\n",
        "    print(\"Error in reading or converting the inputs!\")"
      ],
      "metadata": {
        "colab": {
          "base_uri": "https://localhost:8080/"
        },
        "id": "HuBaOyzAuqV1",
        "outputId": "14d84949-5eff-42d5-e2f9-1df6582d2828"
      },
      "execution_count": 15,
      "outputs": [
        {
          "output_type": "stream",
          "name": "stdout",
          "text": [
            "Please enter multiple numbers, separated by spaces: 21 29 31 32\n",
            "Multiple Inputs Read from File: [21, 29, 31, 32], Sum = 113\n"
          ]
        }
      ]
    },
    {
      "cell_type": "code",
      "source": [
        "# Print a message to the screen\n",
        "print(\"Hello, World!\")"
      ],
      "metadata": {
        "colab": {
          "base_uri": "https://localhost:8080/"
        },
        "id": "e8cxNcAtvweJ",
        "outputId": "bfa3bcbd-a476-4867-d5da-4410d62b81f5"
      },
      "execution_count": 16,
      "outputs": [
        {
          "output_type": "stream",
          "name": "stdout",
          "text": [
            "Hello, World!\n"
          ]
        }
      ]
    },
    {
      "cell_type": "code",
      "source": [
        "# Addition of two numbers\n",
        "a = 5\n",
        "b = 10\n",
        "sum = a + b\n",
        "print(f\"The sum of {a} and {b} is {sum}\")\n"
      ],
      "metadata": {
        "colab": {
          "base_uri": "https://localhost:8080/"
        },
        "id": "HnKBwAGOyZdn",
        "outputId": "31ed5bb6-6c5e-44fb-d169-d73ee2988ac6"
      },
      "execution_count": 17,
      "outputs": [
        {
          "output_type": "stream",
          "name": "stdout",
          "text": [
            "The sum of 5 and 10 is 15\n"
          ]
        }
      ]
    },
    {
      "cell_type": "code",
      "source": [
        "# Check if a number is even or odd\n",
        "num = int(input(\"Enter a number: \"))\n",
        "if num % 2 == 0:\n",
        "    print(f\"{num} is even.\")\n",
        "else:\n",
        "    print(f\"{num} is odd.\")\n"
      ],
      "metadata": {
        "colab": {
          "base_uri": "https://localhost:8080/"
        },
        "id": "vgXy4PMkydYG",
        "outputId": "a5c4900c-c24c-49c8-f79d-a03adbd11250"
      },
      "execution_count": 18,
      "outputs": [
        {
          "output_type": "stream",
          "name": "stdout",
          "text": [
            "Enter a number: 1624\n",
            "1624 is even.\n"
          ]
        }
      ]
    },
    {
      "cell_type": "code",
      "source": [
        "# Calculate the factorial of a number\n",
        "num = int(input(\"Enter a number: \"))\n",
        "factorial = 1\n",
        "for i in range(1, num + 1):\n",
        "    factorial *= i\n",
        "print(f\"Factorial of {num} is {factorial}\")\n"
      ],
      "metadata": {
        "colab": {
          "base_uri": "https://localhost:8080/"
        },
        "id": "_D5mID-Qyfpj",
        "outputId": "18818a3e-10ad-4ff8-bf11-b15838574f5f"
      },
      "execution_count": 19,
      "outputs": [
        {
          "output_type": "stream",
          "name": "stdout",
          "text": [
            "Enter a number: 29\n",
            "Factorial of 29 is 8841761993739701954543616000000\n"
          ]
        }
      ]
    },
    {
      "cell_type": "code",
      "source": [
        "# Generate Fibonacci sequence up to n terms\n",
        "n = int(input(\"Enter number of terms: \"))\n",
        "a, b = 0, 1\n",
        "print(\"Fibonacci sequence:\")\n",
        "for _ in range(n):\n",
        "    print(a, end=\" \")\n",
        "    a, b = b, a + b\n"
      ],
      "metadata": {
        "colab": {
          "base_uri": "https://localhost:8080/"
        },
        "id": "v1MLxuJ_ykGw",
        "outputId": "a56710f7-cef6-459d-892f-23993a244aae"
      },
      "execution_count": 20,
      "outputs": [
        {
          "output_type": "stream",
          "name": "stdout",
          "text": [
            "Enter number of terms: 13\n",
            "Fibonacci sequence:\n",
            "0 1 1 2 3 5 8 13 21 34 55 89 144 "
          ]
        }
      ]
    },
    {
      "cell_type": "code",
      "source": [
        "# Check if a number is prime\n",
        "num = int(input(\"Enter a number: \"))\n",
        "if num > 1:\n",
        "    for i in range(2, int(num**0.5) + 1):\n",
        "        if num % i == 0:\n",
        "            print(f\"{num} is not prime.\")\n",
        "            break\n",
        "    else:\n",
        "        print(f\"{num} is prime.\")\n",
        "else:\n",
        "    print(f\"{num} is not prime.\")\n"
      ],
      "metadata": {
        "colab": {
          "base_uri": "https://localhost:8080/"
        },
        "id": "ju2cu_pxyoyi",
        "outputId": "d58ede84-d7b6-4982-f7e2-a179b40fa38e"
      },
      "execution_count": 21,
      "outputs": [
        {
          "output_type": "stream",
          "name": "stdout",
          "text": [
            "Enter a number: 31\n",
            "31 is prime.\n"
          ]
        }
      ]
    },
    {
      "cell_type": "code",
      "source": [
        "# Find the largest among three numbers\n",
        "a = int(input(\"Enter first number: \"))\n",
        "b = int(input(\"Enter second number: \"))\n",
        "c = int(input(\"Enter third number: \"))\n",
        "largest = max(a, b, c)\n",
        "print(f\"The largest number is {largest}\")\n"
      ],
      "metadata": {
        "colab": {
          "base_uri": "https://localhost:8080/"
        },
        "id": "5qAeytpQytFf",
        "outputId": "602547cc-7d3e-4617-a915-1fea03833496"
      },
      "execution_count": 22,
      "outputs": [
        {
          "output_type": "stream",
          "name": "stdout",
          "text": [
            "Enter first number: 21\n",
            "Enter second number: 47\n",
            "Enter third number: 29\n",
            "The largest number is 47\n"
          ]
        }
      ]
    },
    {
      "cell_type": "code",
      "source": [
        "# Reverse a string\n",
        "string = input(\"Enter a string: \")\n",
        "reversed_string = string[::-1]\n",
        "print(f\"Reversed string: {reversed_string}\")\n"
      ],
      "metadata": {
        "colab": {
          "base_uri": "https://localhost:8080/"
        },
        "id": "P7EZN1Mzyw92",
        "outputId": "97b30a34-fff0-4c62-db13-4bac1161ef13"
      },
      "execution_count": 23,
      "outputs": [
        {
          "output_type": "stream",
          "name": "stdout",
          "text": [
            "Enter a string: hello\n",
            "Reversed string: olleh\n"
          ]
        }
      ]
    },
    {
      "cell_type": "code",
      "source": [
        "# Program to count vowels in a string\n",
        "string = input(\"Enter a string: \").lower()  # Convert the string to lowercase\n",
        "vowel_count = 0\n",
        "\n",
        "for char in string:\n",
        "    if char in \"aeiou\":  # Check if the character is a vowel\n",
        "        vowel_count += 1\n",
        "\n",
        "print(f\"The total number of vowels in the string is: {vowel_count}\")\n"
      ],
      "metadata": {
        "colab": {
          "base_uri": "https://localhost:8080/"
        },
        "id": "L9l_omRQzZFP",
        "outputId": "4ec1cc7a-57e1-4070-a4a3-0deb51ec8be8"
      },
      "execution_count": 29,
      "outputs": [
        {
          "output_type": "stream",
          "name": "stdout",
          "text": [
            "Enter a string: Hello\n",
            "The total number of vowels in the string is: 2\n"
          ]
        }
      ]
    },
    {
      "cell_type": "code",
      "source": [
        "# Program to calculate the sum of elements in a list\n",
        "numbers = [int(x) for x in input(\"Enter numbers separated by spaces: \").split()]\n",
        "total_sum = 0\n",
        "\n",
        "for num in numbers:\n",
        "    total_sum += num  # Add each number to the total\n",
        "\n",
        "print(f\"The sum of the entered list elements is: {total_sum}\")\n"
      ],
      "metadata": {
        "colab": {
          "base_uri": "https://localhost:8080/"
        },
        "id": "CZe345j0ziei",
        "outputId": "20384d59-1535-4530-9130-6c2d11dd160d"
      },
      "execution_count": 30,
      "outputs": [
        {
          "output_type": "stream",
          "name": "stdout",
          "text": [
            "Enter numbers separated by spaces: 21 29 31 32\n",
            "The sum of the entered list elements is: 113\n"
          ]
        }
      ]
    },
    {
      "cell_type": "code",
      "source": [
        "# Save version as a Python file\n",
        "code = \"\"\"<INSERT YOUR CODE>\"\"\"\n",
        "with open('version1.py', 'w') as file:\n",
        "    file.write(code)\n",
        "print(\"Version saved as version1.py\")\n"
      ],
      "metadata": {
        "colab": {
          "base_uri": "https://localhost:8080/"
        },
        "id": "MZ4p-lL0zOu1",
        "outputId": "8d465550-45d0-4f48-ad3f-d01bd1dc9baa"
      },
      "execution_count": 28,
      "outputs": [
        {
          "output_type": "stream",
          "name": "stdout",
          "text": [
            "Version saved as version1.py\n"
          ]
        }
      ]
    },
    {
      "cell_type": "code",
      "source": [
        "try:\n",
        "    with open('inputs.txt', 'r') as file:\n",
        "        numbers = [int(line.strip()) for line in file.readlines()]\n",
        "    total = sum(numbers)\n",
        "    print(f\"Sum of numbers: {total}\")\n",
        "except FileNotFoundError:\n",
        "    print(\"Error: File not found.\")\n",
        "except ValueError:\n",
        "    print(\"Error: Invalid data in the file.\")"
      ],
      "metadata": {
        "colab": {
          "base_uri": "https://localhost:8080/"
        },
        "id": "h8Iq0ft3zWPk",
        "outputId": "f169aad9-d27d-487c-ff6f-36e50573c88f"
      },
      "execution_count": 31,
      "outputs": [
        {
          "output_type": "stream",
          "name": "stdout",
          "text": [
            "Error: File not found.\n"
          ]
        }
      ]
    },
    {
      "cell_type": "code",
      "source": [],
      "metadata": {
        "id": "eykI-C3Ozy0k"
      },
      "execution_count": null,
      "outputs": []
    }
  ]
}